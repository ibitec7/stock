{
 "cells": [
  {
   "cell_type": "code",
   "execution_count": 10,
   "metadata": {},
   "outputs": [],
   "source": [
    "import matplotlib.pyplot as plt\n",
    "import yfinance as yf\n",
    "import polars as pl\n",
    "import pandas as pd"
   ]
  },
  {
   "cell_type": "code",
   "execution_count": 11,
   "metadata": {},
   "outputs": [
    {
     "data": {
      "text/html": [
       "<div>\n",
       "<style scoped>\n",
       "    .dataframe tbody tr th:only-of-type {\n",
       "        vertical-align: middle;\n",
       "    }\n",
       "\n",
       "    .dataframe tbody tr th {\n",
       "        vertical-align: top;\n",
       "    }\n",
       "\n",
       "    .dataframe thead th {\n",
       "        text-align: right;\n",
       "    }\n",
       "</style>\n",
       "<table border=\"1\" class=\"dataframe\">\n",
       "  <thead>\n",
       "    <tr style=\"text-align: right;\">\n",
       "      <th></th>\n",
       "      <th>2024-12-31</th>\n",
       "      <th>2023-12-31</th>\n",
       "      <th>2022-12-31</th>\n",
       "      <th>2021-12-31</th>\n",
       "      <th>2020-12-31</th>\n",
       "    </tr>\n",
       "  </thead>\n",
       "  <tbody>\n",
       "    <tr>\n",
       "      <th>Total Unusual Items</th>\n",
       "      <td>-7483000000.0</td>\n",
       "      <td>102000000.0</td>\n",
       "      <td>5266000000.0</td>\n",
       "      <td>103000000.0</td>\n",
       "      <td>NaN</td>\n",
       "    </tr>\n",
       "    <tr>\n",
       "      <th>EBITDA</th>\n",
       "      <td>1203000000.0</td>\n",
       "      <td>11242000000.0</td>\n",
       "      <td>21299000000.0</td>\n",
       "      <td>34092000000.0</td>\n",
       "      <td>NaN</td>\n",
       "    </tr>\n",
       "    <tr>\n",
       "      <th>EBIT</th>\n",
       "      <td>-10176000000.0</td>\n",
       "      <td>1640000000.0</td>\n",
       "      <td>8264000000.0</td>\n",
       "      <td>22300000000.0</td>\n",
       "      <td>NaN</td>\n",
       "    </tr>\n",
       "    <tr>\n",
       "      <th>Interest Expense</th>\n",
       "      <td>1034000000.0</td>\n",
       "      <td>878000000.0</td>\n",
       "      <td>496000000.0</td>\n",
       "      <td>597000000.0</td>\n",
       "      <td>NaN</td>\n",
       "    </tr>\n",
       "    <tr>\n",
       "      <th>Diluted EPS</th>\n",
       "      <td>NaN</td>\n",
       "      <td>0.4</td>\n",
       "      <td>1.94</td>\n",
       "      <td>4.86</td>\n",
       "      <td>4.94</td>\n",
       "    </tr>\n",
       "    <tr>\n",
       "      <th>Operating Income</th>\n",
       "      <td>-4708000000.0</td>\n",
       "      <td>31000000.0</td>\n",
       "      <td>2336000000.0</td>\n",
       "      <td>22082000000.0</td>\n",
       "      <td>NaN</td>\n",
       "    </tr>\n",
       "    <tr>\n",
       "      <th>Operating Expense</th>\n",
       "      <td>22053000000.0</td>\n",
       "      <td>21680000000.0</td>\n",
       "      <td>24530000000.0</td>\n",
       "      <td>21733000000.0</td>\n",
       "      <td>NaN</td>\n",
       "    </tr>\n",
       "    <tr>\n",
       "      <th>Gross Profit</th>\n",
       "      <td>17345000000.0</td>\n",
       "      <td>21711000000.0</td>\n",
       "      <td>26866000000.0</td>\n",
       "      <td>43815000000.0</td>\n",
       "      <td>NaN</td>\n",
       "    </tr>\n",
       "    <tr>\n",
       "      <th>Total Revenue</th>\n",
       "      <td>53101000000.0</td>\n",
       "      <td>54228000000.0</td>\n",
       "      <td>63054000000.0</td>\n",
       "      <td>79024000000.0</td>\n",
       "      <td>NaN</td>\n",
       "    </tr>\n",
       "    <tr>\n",
       "      <th>EBITDA_margin</th>\n",
       "      <td>0.022655</td>\n",
       "      <td>0.20731</td>\n",
       "      <td>0.33779</td>\n",
       "      <td>0.431413</td>\n",
       "      <td>NaN</td>\n",
       "    </tr>\n",
       "    <tr>\n",
       "      <th>EBIT_margin</th>\n",
       "      <td>-0.191635</td>\n",
       "      <td>0.030243</td>\n",
       "      <td>0.131062</td>\n",
       "      <td>0.282193</td>\n",
       "      <td>NaN</td>\n",
       "    </tr>\n",
       "  </tbody>\n",
       "</table>\n",
       "</div>"
      ],
      "text/plain": [
       "                        2024-12-31     2023-12-31     2022-12-31  \\\n",
       "Total Unusual Items  -7483000000.0    102000000.0   5266000000.0   \n",
       "EBITDA                1203000000.0  11242000000.0  21299000000.0   \n",
       "EBIT                -10176000000.0   1640000000.0   8264000000.0   \n",
       "Interest Expense      1034000000.0    878000000.0    496000000.0   \n",
       "Diluted EPS                    NaN            0.4           1.94   \n",
       "Operating Income     -4708000000.0     31000000.0   2336000000.0   \n",
       "Operating Expense    22053000000.0  21680000000.0  24530000000.0   \n",
       "Gross Profit         17345000000.0  21711000000.0  26866000000.0   \n",
       "Total Revenue        53101000000.0  54228000000.0  63054000000.0   \n",
       "EBITDA_margin             0.022655        0.20731        0.33779   \n",
       "EBIT_margin              -0.191635       0.030243       0.131062   \n",
       "\n",
       "                        2021-12-31 2020-12-31  \n",
       "Total Unusual Items    103000000.0        NaN  \n",
       "EBITDA               34092000000.0        NaN  \n",
       "EBIT                 22300000000.0        NaN  \n",
       "Interest Expense       597000000.0        NaN  \n",
       "Diluted EPS                   4.86       4.94  \n",
       "Operating Income     22082000000.0        NaN  \n",
       "Operating Expense    21733000000.0        NaN  \n",
       "Gross Profit         43815000000.0        NaN  \n",
       "Total Revenue        79024000000.0        NaN  \n",
       "EBITDA_margin             0.431413        NaN  \n",
       "EBIT_margin               0.282193        NaN  "
      ]
     },
     "execution_count": 11,
     "metadata": {},
     "output_type": "execute_result"
    }
   ],
   "source": [
    "metrics = [\"Total Revenue\", \"EBITDA\", \"EBIT\", \"Gross Profit\", \"Diluted EPS\", \"Operating Income\", \"Operating Expense\", \"Interest Expense\", \"Tax Rate\", \"Total Unusual Items\"]\n",
    "\n",
    "df_intel = yf.Ticker(\"INTC\").financials\n",
    "df_amd = yf.Ticker(\"AMD\").financials\n",
    "df_nvidia = yf.Ticker(\"NVDA\").financials\n",
    "\n",
    "df_intel = df_intel[df_intel.index.isin(metrics)]\n",
    "df_amd = df_amd[df_amd.index.isin(metrics)]\n",
    "df_nvidia = df_nvidia[df_nvidia.index.isin(metrics)]\n",
    "\n",
    "df_intel.loc[\"EBITDA_margin\"] = df_intel.loc[\"EBITDA\"] / df_intel.loc[\"Total Revenue\"]\n",
    "df_amd.loc[\"EBITDA_margin\"] = df_amd.loc[\"EBITDA\"] / df_amd.loc[\"Total Revenue\"]\n",
    "df_nvidia.loc[\"EBITDA_margin\"] = df_nvidia.loc[\"EBITDA\"] / df_nvidia.loc[\"Total Revenue\"]\n",
    "\n",
    "df_intel.loc[\"EBIT_margin\"] = df_intel.loc[\"EBIT\"] / df_intel.loc[\"Total Revenue\"]\n",
    "df_amd.loc[\"EBIT_margin\"] = df_amd.loc[\"EBIT\"] / df_amd.loc[\"Total Revenue\"]\n",
    "df_nvidia.loc[\"EBIT_margin\"] = df_nvidia.loc[\"EBIT\"] / df_nvidia.loc[\"Total Revenue\"]\n",
    "\n",
    "df_intel"
   ]
  },
  {
   "cell_type": "code",
   "execution_count": 12,
   "metadata": {},
   "outputs": [
    {
     "data": {
      "text/html": [
       "<div>\n",
       "<style scoped>\n",
       "    .dataframe tbody tr th:only-of-type {\n",
       "        vertical-align: middle;\n",
       "    }\n",
       "\n",
       "    .dataframe tbody tr th {\n",
       "        vertical-align: top;\n",
       "    }\n",
       "\n",
       "    .dataframe thead th {\n",
       "        text-align: right;\n",
       "    }\n",
       "</style>\n",
       "<table border=\"1\" class=\"dataframe\">\n",
       "  <thead>\n",
       "    <tr style=\"text-align: right;\">\n",
       "      <th></th>\n",
       "      <th>2024-12-31</th>\n",
       "      <th>2023-12-31</th>\n",
       "      <th>2022-12-31</th>\n",
       "      <th>2021-12-31</th>\n",
       "      <th>2020-12-31</th>\n",
       "    </tr>\n",
       "  </thead>\n",
       "  <tbody>\n",
       "    <tr>\n",
       "      <th>Total Unusual Items</th>\n",
       "      <td>-186000000.0</td>\n",
       "      <td>0.0</td>\n",
       "      <td>0.0</td>\n",
       "      <td>-7000000.0</td>\n",
       "      <td>NaN</td>\n",
       "    </tr>\n",
       "    <tr>\n",
       "      <th>EBITDA</th>\n",
       "      <td>5258000000.0</td>\n",
       "      <td>4149000000.0</td>\n",
       "      <td>5534000000.0</td>\n",
       "      <td>4166000000.0</td>\n",
       "      <td>NaN</td>\n",
       "    </tr>\n",
       "    <tr>\n",
       "      <th>EBIT</th>\n",
       "      <td>2081000000.0</td>\n",
       "      <td>598000000.0</td>\n",
       "      <td>1272000000.0</td>\n",
       "      <td>3703000000.0</td>\n",
       "      <td>NaN</td>\n",
       "    </tr>\n",
       "    <tr>\n",
       "      <th>Interest Expense</th>\n",
       "      <td>92000000.0</td>\n",
       "      <td>106000000.0</td>\n",
       "      <td>88000000.0</td>\n",
       "      <td>34000000.0</td>\n",
       "      <td>NaN</td>\n",
       "    </tr>\n",
       "    <tr>\n",
       "      <th>Diluted EPS</th>\n",
       "      <td>1.0</td>\n",
       "      <td>0.53</td>\n",
       "      <td>0.84</td>\n",
       "      <td>2.57</td>\n",
       "      <td>NaN</td>\n",
       "    </tr>\n",
       "    <tr>\n",
       "      <th>Operating Income</th>\n",
       "      <td>2086000000.0</td>\n",
       "      <td>401000000.0</td>\n",
       "      <td>1264000000.0</td>\n",
       "      <td>3648000000.0</td>\n",
       "      <td>NaN</td>\n",
       "    </tr>\n",
       "    <tr>\n",
       "      <th>Operating Expense</th>\n",
       "      <td>10639000000.0</td>\n",
       "      <td>10059000000.0</td>\n",
       "      <td>9339000000.0</td>\n",
       "      <td>4281000000.0</td>\n",
       "      <td>NaN</td>\n",
       "    </tr>\n",
       "    <tr>\n",
       "      <th>Gross Profit</th>\n",
       "      <td>12725000000.0</td>\n",
       "      <td>10460000000.0</td>\n",
       "      <td>10603000000.0</td>\n",
       "      <td>7929000000.0</td>\n",
       "      <td>NaN</td>\n",
       "    </tr>\n",
       "    <tr>\n",
       "      <th>Total Revenue</th>\n",
       "      <td>25785000000.0</td>\n",
       "      <td>22680000000.0</td>\n",
       "      <td>23601000000.0</td>\n",
       "      <td>16434000000.0</td>\n",
       "      <td>NaN</td>\n",
       "    </tr>\n",
       "    <tr>\n",
       "      <th>EBITDA_margin</th>\n",
       "      <td>0.203917</td>\n",
       "      <td>0.182937</td>\n",
       "      <td>0.234482</td>\n",
       "      <td>0.253499</td>\n",
       "      <td>NaN</td>\n",
       "    </tr>\n",
       "    <tr>\n",
       "      <th>EBIT_margin</th>\n",
       "      <td>0.080706</td>\n",
       "      <td>0.026367</td>\n",
       "      <td>0.053896</td>\n",
       "      <td>0.225326</td>\n",
       "      <td>NaN</td>\n",
       "    </tr>\n",
       "  </tbody>\n",
       "</table>\n",
       "</div>"
      ],
      "text/plain": [
       "                        2024-12-31     2023-12-31     2022-12-31  \\\n",
       "Total Unusual Items   -186000000.0            0.0            0.0   \n",
       "EBITDA                5258000000.0   4149000000.0   5534000000.0   \n",
       "EBIT                  2081000000.0    598000000.0   1272000000.0   \n",
       "Interest Expense        92000000.0    106000000.0     88000000.0   \n",
       "Diluted EPS                    1.0           0.53           0.84   \n",
       "Operating Income      2086000000.0    401000000.0   1264000000.0   \n",
       "Operating Expense    10639000000.0  10059000000.0   9339000000.0   \n",
       "Gross Profit         12725000000.0  10460000000.0  10603000000.0   \n",
       "Total Revenue        25785000000.0  22680000000.0  23601000000.0   \n",
       "EBITDA_margin             0.203917       0.182937       0.234482   \n",
       "EBIT_margin               0.080706       0.026367       0.053896   \n",
       "\n",
       "                        2021-12-31 2020-12-31  \n",
       "Total Unusual Items     -7000000.0        NaN  \n",
       "EBITDA                4166000000.0        NaN  \n",
       "EBIT                  3703000000.0        NaN  \n",
       "Interest Expense        34000000.0        NaN  \n",
       "Diluted EPS                   2.57        NaN  \n",
       "Operating Income      3648000000.0        NaN  \n",
       "Operating Expense     4281000000.0        NaN  \n",
       "Gross Profit          7929000000.0        NaN  \n",
       "Total Revenue        16434000000.0        NaN  \n",
       "EBITDA_margin             0.253499        NaN  \n",
       "EBIT_margin               0.225326        NaN  "
      ]
     },
     "execution_count": 12,
     "metadata": {},
     "output_type": "execute_result"
    }
   ],
   "source": [
    "df_amd"
   ]
  },
  {
   "cell_type": "code",
   "execution_count": 13,
   "metadata": {},
   "outputs": [
    {
     "data": {
      "text/html": [
       "<div>\n",
       "<style scoped>\n",
       "    .dataframe tbody tr th:only-of-type {\n",
       "        vertical-align: middle;\n",
       "    }\n",
       "\n",
       "    .dataframe tbody tr th {\n",
       "        vertical-align: top;\n",
       "    }\n",
       "\n",
       "    .dataframe thead th {\n",
       "        text-align: right;\n",
       "    }\n",
       "</style>\n",
       "<table border=\"1\" class=\"dataframe\">\n",
       "  <thead>\n",
       "    <tr style=\"text-align: right;\">\n",
       "      <th></th>\n",
       "      <th>2025-01-31</th>\n",
       "      <th>2024-01-31</th>\n",
       "      <th>2023-01-31</th>\n",
       "      <th>2022-01-31</th>\n",
       "    </tr>\n",
       "  </thead>\n",
       "  <tbody>\n",
       "    <tr>\n",
       "      <th>Total Unusual Items</th>\n",
       "      <td>0.0</td>\n",
       "      <td>0.0</td>\n",
       "      <td>-1353000000.0</td>\n",
       "      <td>0.0</td>\n",
       "    </tr>\n",
       "    <tr>\n",
       "      <th>EBITDA</th>\n",
       "      <td>86137000000.0</td>\n",
       "      <td>35583000000.0</td>\n",
       "      <td>5987000000.0</td>\n",
       "      <td>11351000000.0</td>\n",
       "    </tr>\n",
       "    <tr>\n",
       "      <th>EBIT</th>\n",
       "      <td>84273000000.0</td>\n",
       "      <td>34075000000.0</td>\n",
       "      <td>4443000000.0</td>\n",
       "      <td>10177000000.0</td>\n",
       "    </tr>\n",
       "    <tr>\n",
       "      <th>Interest Expense</th>\n",
       "      <td>247000000.0</td>\n",
       "      <td>257000000.0</td>\n",
       "      <td>262000000.0</td>\n",
       "      <td>236000000.0</td>\n",
       "    </tr>\n",
       "    <tr>\n",
       "      <th>Diluted EPS</th>\n",
       "      <td>2.94</td>\n",
       "      <td>1.19</td>\n",
       "      <td>0.17</td>\n",
       "      <td>0.385</td>\n",
       "    </tr>\n",
       "    <tr>\n",
       "      <th>Operating Income</th>\n",
       "      <td>81453000000.0</td>\n",
       "      <td>32972000000.0</td>\n",
       "      <td>5577000000.0</td>\n",
       "      <td>10041000000.0</td>\n",
       "    </tr>\n",
       "    <tr>\n",
       "      <th>Operating Expense</th>\n",
       "      <td>16405000000.0</td>\n",
       "      <td>11329000000.0</td>\n",
       "      <td>9779000000.0</td>\n",
       "      <td>7434000000.0</td>\n",
       "    </tr>\n",
       "    <tr>\n",
       "      <th>Gross Profit</th>\n",
       "      <td>97858000000.0</td>\n",
       "      <td>44301000000.0</td>\n",
       "      <td>15356000000.0</td>\n",
       "      <td>17475000000.0</td>\n",
       "    </tr>\n",
       "    <tr>\n",
       "      <th>Total Revenue</th>\n",
       "      <td>130497000000.0</td>\n",
       "      <td>60922000000.0</td>\n",
       "      <td>26974000000.0</td>\n",
       "      <td>26914000000.0</td>\n",
       "    </tr>\n",
       "    <tr>\n",
       "      <th>EBITDA_margin</th>\n",
       "      <td>0.660069</td>\n",
       "      <td>0.584075</td>\n",
       "      <td>0.221954</td>\n",
       "      <td>0.421751</td>\n",
       "    </tr>\n",
       "    <tr>\n",
       "      <th>EBIT_margin</th>\n",
       "      <td>0.645785</td>\n",
       "      <td>0.559322</td>\n",
       "      <td>0.164714</td>\n",
       "      <td>0.37813</td>\n",
       "    </tr>\n",
       "  </tbody>\n",
       "</table>\n",
       "</div>"
      ],
      "text/plain": [
       "                         2025-01-31     2024-01-31     2023-01-31  \\\n",
       "Total Unusual Items             0.0            0.0  -1353000000.0   \n",
       "EBITDA                86137000000.0  35583000000.0   5987000000.0   \n",
       "EBIT                  84273000000.0  34075000000.0   4443000000.0   \n",
       "Interest Expense        247000000.0    257000000.0    262000000.0   \n",
       "Diluted EPS                    2.94           1.19           0.17   \n",
       "Operating Income      81453000000.0  32972000000.0   5577000000.0   \n",
       "Operating Expense     16405000000.0  11329000000.0   9779000000.0   \n",
       "Gross Profit          97858000000.0  44301000000.0  15356000000.0   \n",
       "Total Revenue        130497000000.0  60922000000.0  26974000000.0   \n",
       "EBITDA_margin              0.660069       0.584075       0.221954   \n",
       "EBIT_margin                0.645785       0.559322       0.164714   \n",
       "\n",
       "                        2022-01-31  \n",
       "Total Unusual Items            0.0  \n",
       "EBITDA               11351000000.0  \n",
       "EBIT                 10177000000.0  \n",
       "Interest Expense       236000000.0  \n",
       "Diluted EPS                  0.385  \n",
       "Operating Income     10041000000.0  \n",
       "Operating Expense     7434000000.0  \n",
       "Gross Profit         17475000000.0  \n",
       "Total Revenue        26914000000.0  \n",
       "EBITDA_margin             0.421751  \n",
       "EBIT_margin                0.37813  "
      ]
     },
     "execution_count": 13,
     "metadata": {},
     "output_type": "execute_result"
    }
   ],
   "source": [
    "df_nvidia"
   ]
  },
  {
   "cell_type": "code",
   "execution_count": 14,
   "metadata": {},
   "outputs": [
    {
     "name": "stderr",
     "output_type": "stream",
     "text": [
      "/tmp/ipykernel_6618/3684447373.py:8: FutureWarning: Downcasting object dtype arrays on .fillna, .ffill, .bfill is deprecated and will change in a future version. Call result.infer_objects(copy=False) instead. To opt-in to the future behavior, set `pd.set_option('future.no_silent_downcasting', True)`\n",
      "  df.fillna(0.0, inplace=True)\n"
     ]
    }
   ],
   "source": [
    "df = pd.DataFrame()\n",
    "df.index = df_intel.index\n",
    "\n",
    "df[\"Intel\"] = df_intel[\"2024-12-31\"]\n",
    "df[\"AMD\"] = df_amd[\"2024-12-31\"]\n",
    "df[\"Nvidia\"] = df_nvidia[\"2025-01-31\"]\n",
    "\n",
    "df.fillna(0.0, inplace=True)"
   ]
  },
  {
   "cell_type": "code",
   "execution_count": 15,
   "metadata": {},
   "outputs": [
    {
     "data": {
      "text/html": [
       "<div>\n",
       "<style scoped>\n",
       "    .dataframe tbody tr th:only-of-type {\n",
       "        vertical-align: middle;\n",
       "    }\n",
       "\n",
       "    .dataframe tbody tr th {\n",
       "        vertical-align: top;\n",
       "    }\n",
       "\n",
       "    .dataframe thead th {\n",
       "        text-align: right;\n",
       "    }\n",
       "</style>\n",
       "<table border=\"1\" class=\"dataframe\">\n",
       "  <thead>\n",
       "    <tr style=\"text-align: right;\">\n",
       "      <th></th>\n",
       "      <th>Intel</th>\n",
       "      <th>AMD</th>\n",
       "      <th>Nvidia</th>\n",
       "    </tr>\n",
       "  </thead>\n",
       "  <tbody>\n",
       "    <tr>\n",
       "      <th>Total Unusual Items</th>\n",
       "      <td>-7.483000e+09</td>\n",
       "      <td>-186000000.0</td>\n",
       "      <td>0.0</td>\n",
       "    </tr>\n",
       "    <tr>\n",
       "      <th>EBITDA</th>\n",
       "      <td>1.203000e+09</td>\n",
       "      <td>5258000000.0</td>\n",
       "      <td>86137000000.0</td>\n",
       "    </tr>\n",
       "    <tr>\n",
       "      <th>EBIT</th>\n",
       "      <td>-1.017600e+10</td>\n",
       "      <td>2081000000.0</td>\n",
       "      <td>84273000000.0</td>\n",
       "    </tr>\n",
       "    <tr>\n",
       "      <th>Interest Expense</th>\n",
       "      <td>1.034000e+09</td>\n",
       "      <td>92000000.0</td>\n",
       "      <td>247000000.0</td>\n",
       "    </tr>\n",
       "    <tr>\n",
       "      <th>Diluted EPS</th>\n",
       "      <td>0.000000e+00</td>\n",
       "      <td>1.0</td>\n",
       "      <td>2.94</td>\n",
       "    </tr>\n",
       "    <tr>\n",
       "      <th>Operating Income</th>\n",
       "      <td>-4.708000e+09</td>\n",
       "      <td>2086000000.0</td>\n",
       "      <td>81453000000.0</td>\n",
       "    </tr>\n",
       "    <tr>\n",
       "      <th>Operating Expense</th>\n",
       "      <td>2.205300e+10</td>\n",
       "      <td>10639000000.0</td>\n",
       "      <td>16405000000.0</td>\n",
       "    </tr>\n",
       "    <tr>\n",
       "      <th>Gross Profit</th>\n",
       "      <td>1.734500e+10</td>\n",
       "      <td>12725000000.0</td>\n",
       "      <td>97858000000.0</td>\n",
       "    </tr>\n",
       "    <tr>\n",
       "      <th>Total Revenue</th>\n",
       "      <td>5.310100e+10</td>\n",
       "      <td>25785000000.0</td>\n",
       "      <td>130497000000.0</td>\n",
       "    </tr>\n",
       "    <tr>\n",
       "      <th>EBITDA_margin</th>\n",
       "      <td>2.265494e-02</td>\n",
       "      <td>0.203917</td>\n",
       "      <td>0.660069</td>\n",
       "    </tr>\n",
       "    <tr>\n",
       "      <th>EBIT_margin</th>\n",
       "      <td>-1.916348e-01</td>\n",
       "      <td>0.080706</td>\n",
       "      <td>0.645785</td>\n",
       "    </tr>\n",
       "  </tbody>\n",
       "</table>\n",
       "</div>"
      ],
      "text/plain": [
       "                            Intel            AMD          Nvidia\n",
       "Total Unusual Items -7.483000e+09   -186000000.0             0.0\n",
       "EBITDA               1.203000e+09   5258000000.0   86137000000.0\n",
       "EBIT                -1.017600e+10   2081000000.0   84273000000.0\n",
       "Interest Expense     1.034000e+09     92000000.0     247000000.0\n",
       "Diluted EPS          0.000000e+00            1.0            2.94\n",
       "Operating Income    -4.708000e+09   2086000000.0   81453000000.0\n",
       "Operating Expense    2.205300e+10  10639000000.0   16405000000.0\n",
       "Gross Profit         1.734500e+10  12725000000.0   97858000000.0\n",
       "Total Revenue        5.310100e+10  25785000000.0  130497000000.0\n",
       "EBITDA_margin        2.265494e-02       0.203917        0.660069\n",
       "EBIT_margin         -1.916348e-01       0.080706        0.645785"
      ]
     },
     "execution_count": 15,
     "metadata": {},
     "output_type": "execute_result"
    }
   ],
   "source": [
    "df"
   ]
  },
  {
   "cell_type": "code",
   "execution_count": 16,
   "metadata": {},
   "outputs": [
    {
     "data": {
      "text/html": [
       "<div>\n",
       "<style scoped>\n",
       "    .dataframe tbody tr th:only-of-type {\n",
       "        vertical-align: middle;\n",
       "    }\n",
       "\n",
       "    .dataframe tbody tr th {\n",
       "        vertical-align: top;\n",
       "    }\n",
       "\n",
       "    .dataframe thead th {\n",
       "        text-align: right;\n",
       "    }\n",
       "</style>\n",
       "<table border=\"1\" class=\"dataframe\">\n",
       "  <thead>\n",
       "    <tr style=\"text-align: right;\">\n",
       "      <th></th>\n",
       "      <th>Intel</th>\n",
       "      <th>AMD</th>\n",
       "      <th>Nvidia</th>\n",
       "    </tr>\n",
       "  </thead>\n",
       "  <tbody>\n",
       "    <tr>\n",
       "      <th>Total Unusual Items</th>\n",
       "      <td>-7.483000e+09</td>\n",
       "      <td>-186000000.0</td>\n",
       "      <td>0.0</td>\n",
       "    </tr>\n",
       "    <tr>\n",
       "      <th>EBITDA</th>\n",
       "      <td>1.203000e+09</td>\n",
       "      <td>5258000000.0</td>\n",
       "      <td>86137000000.0</td>\n",
       "    </tr>\n",
       "    <tr>\n",
       "      <th>EBIT</th>\n",
       "      <td>-1.017600e+10</td>\n",
       "      <td>2081000000.0</td>\n",
       "      <td>84273000000.0</td>\n",
       "    </tr>\n",
       "    <tr>\n",
       "      <th>Interest Expense</th>\n",
       "      <td>5.135493e+01</td>\n",
       "      <td>280.271739</td>\n",
       "      <td>528.327935</td>\n",
       "    </tr>\n",
       "    <tr>\n",
       "      <th>Diluted EPS</th>\n",
       "      <td>0.000000e+00</td>\n",
       "      <td>1.0</td>\n",
       "      <td>2.94</td>\n",
       "    </tr>\n",
       "    <tr>\n",
       "      <th>Operating Income</th>\n",
       "      <td>-4.708000e+09</td>\n",
       "      <td>2086000000.0</td>\n",
       "      <td>81453000000.0</td>\n",
       "    </tr>\n",
       "    <tr>\n",
       "      <th>Operating Expense</th>\n",
       "      <td>2.407881e+00</td>\n",
       "      <td>2.42363</td>\n",
       "      <td>7.954709</td>\n",
       "    </tr>\n",
       "    <tr>\n",
       "      <th>Gross Profit</th>\n",
       "      <td>1.734500e+10</td>\n",
       "      <td>12725000000.0</td>\n",
       "      <td>97858000000.0</td>\n",
       "    </tr>\n",
       "    <tr>\n",
       "      <th>Total Revenue</th>\n",
       "      <td>5.310100e+10</td>\n",
       "      <td>25785000000.0</td>\n",
       "      <td>130497000000.0</td>\n",
       "    </tr>\n",
       "    <tr>\n",
       "      <th>EBITDA_margin</th>\n",
       "      <td>2.265494e-02</td>\n",
       "      <td>0.203917</td>\n",
       "      <td>0.660069</td>\n",
       "    </tr>\n",
       "    <tr>\n",
       "      <th>EBIT_margin</th>\n",
       "      <td>-1.916348e-01</td>\n",
       "      <td>0.080706</td>\n",
       "      <td>0.645785</td>\n",
       "    </tr>\n",
       "  </tbody>\n",
       "</table>\n",
       "</div>"
      ],
      "text/plain": [
       "                            Intel            AMD          Nvidia\n",
       "Total Unusual Items -7.483000e+09   -186000000.0             0.0\n",
       "EBITDA               1.203000e+09   5258000000.0   86137000000.0\n",
       "EBIT                -1.017600e+10   2081000000.0   84273000000.0\n",
       "Interest Expense     5.135493e+01     280.271739      528.327935\n",
       "Diluted EPS          0.000000e+00            1.0            2.94\n",
       "Operating Income    -4.708000e+09   2086000000.0   81453000000.0\n",
       "Operating Expense    2.407881e+00        2.42363        7.954709\n",
       "Gross Profit         1.734500e+10  12725000000.0   97858000000.0\n",
       "Total Revenue        5.310100e+10  25785000000.0  130497000000.0\n",
       "EBITDA_margin        2.265494e-02       0.203917        0.660069\n",
       "EBIT_margin         -1.916348e-01       0.080706        0.645785"
      ]
     },
     "execution_count": 16,
     "metadata": {},
     "output_type": "execute_result"
    }
   ],
   "source": [
    "df.loc[\"Operating Expense\"] = 1 / (df.loc[\"Operating Expense\"] / df.loc[\"Total Revenue\"])\n",
    "df.loc[\"Interest Expense\"] = 1 / (df.loc[\"Interest Expense\"] / df.loc[\"Total Revenue\"])\n",
    "\n",
    "df"
   ]
  },
  {
   "cell_type": "code",
   "execution_count": 9,
   "metadata": {},
   "outputs": [
    {
     "data": {
      "text/html": [
       "<div>\n",
       "<style scoped>\n",
       "    .dataframe tbody tr th:only-of-type {\n",
       "        vertical-align: middle;\n",
       "    }\n",
       "\n",
       "    .dataframe tbody tr th {\n",
       "        vertical-align: top;\n",
       "    }\n",
       "\n",
       "    .dataframe thead th {\n",
       "        text-align: right;\n",
       "    }\n",
       "</style>\n",
       "<table border=\"1\" class=\"dataframe\">\n",
       "  <thead>\n",
       "    <tr style=\"text-align: right;\">\n",
       "      <th></th>\n",
       "      <th>Intel</th>\n",
       "      <th>AMD</th>\n",
       "      <th>Nvidia</th>\n",
       "    </tr>\n",
       "  </thead>\n",
       "  <tbody>\n",
       "    <tr>\n",
       "      <th>Total Unusual Items</th>\n",
       "      <td>0.000000</td>\n",
       "      <td>0.975144</td>\n",
       "      <td>1.0</td>\n",
       "    </tr>\n",
       "    <tr>\n",
       "      <th>EBITDA</th>\n",
       "      <td>0.000000</td>\n",
       "      <td>0.047743</td>\n",
       "      <td>1.0</td>\n",
       "    </tr>\n",
       "    <tr>\n",
       "      <th>EBIT</th>\n",
       "      <td>0.000000</td>\n",
       "      <td>0.129774</td>\n",
       "      <td>1.0</td>\n",
       "    </tr>\n",
       "    <tr>\n",
       "      <th>Interest Expense</th>\n",
       "      <td>0.000000</td>\n",
       "      <td>0.479937</td>\n",
       "      <td>1.0</td>\n",
       "    </tr>\n",
       "    <tr>\n",
       "      <th>Diluted EPS</th>\n",
       "      <td>0.000000</td>\n",
       "      <td>0.340136</td>\n",
       "      <td>1.0</td>\n",
       "    </tr>\n",
       "    <tr>\n",
       "      <th>Operating Income</th>\n",
       "      <td>0.000000</td>\n",
       "      <td>0.078852</td>\n",
       "      <td>1.0</td>\n",
       "    </tr>\n",
       "    <tr>\n",
       "      <th>Operating Expense</th>\n",
       "      <td>0.000000</td>\n",
       "      <td>0.002839</td>\n",
       "      <td>1.0</td>\n",
       "    </tr>\n",
       "    <tr>\n",
       "      <th>Gross Profit</th>\n",
       "      <td>0.054268</td>\n",
       "      <td>0.0</td>\n",
       "      <td>1.0</td>\n",
       "    </tr>\n",
       "    <tr>\n",
       "      <th>Total Revenue</th>\n",
       "      <td>0.260868</td>\n",
       "      <td>0.0</td>\n",
       "      <td>1.0</td>\n",
       "    </tr>\n",
       "    <tr>\n",
       "      <th>EBITDA_margin</th>\n",
       "      <td>0.000000</td>\n",
       "      <td>0.284371</td>\n",
       "      <td>1.0</td>\n",
       "    </tr>\n",
       "    <tr>\n",
       "      <th>EBIT_margin</th>\n",
       "      <td>0.000000</td>\n",
       "      <td>0.325214</td>\n",
       "      <td>1.0</td>\n",
       "    </tr>\n",
       "  </tbody>\n",
       "</table>\n",
       "</div>"
      ],
      "text/plain": [
       "                        Intel       AMD Nvidia\n",
       "Total Unusual Items  0.000000  0.975144    1.0\n",
       "EBITDA               0.000000  0.047743    1.0\n",
       "EBIT                 0.000000  0.129774    1.0\n",
       "Interest Expense     0.000000  0.479937    1.0\n",
       "Diluted EPS          0.000000  0.340136    1.0\n",
       "Operating Income     0.000000  0.078852    1.0\n",
       "Operating Expense    0.000000  0.002839    1.0\n",
       "Gross Profit         0.054268       0.0    1.0\n",
       "Total Revenue        0.260868       0.0    1.0\n",
       "EBITDA_margin        0.000000  0.284371    1.0\n",
       "EBIT_margin          0.000000  0.325214    1.0"
      ]
     },
     "execution_count": 9,
     "metadata": {},
     "output_type": "execute_result"
    }
   ],
   "source": [
    "from sklearn.preprocessing import MinMaxScaler, StandardScaler\n",
    "scaler = MinMaxScaler((0, 1))\n",
    "\n",
    "for row in df.index:\n",
    "    df.loc[row] = scaler.fit_transform(df.loc[row].values.reshape(-1, 1)).flatten()\n",
    "\n",
    "df"
   ]
  },
  {
   "cell_type": "code",
   "execution_count": null,
   "metadata": {},
   "outputs": [
    {
     "data": {
      "text/html": [
       "<div>\n",
       "<style scoped>\n",
       "    .dataframe tbody tr th:only-of-type {\n",
       "        vertical-align: middle;\n",
       "    }\n",
       "\n",
       "    .dataframe tbody tr th {\n",
       "        vertical-align: top;\n",
       "    }\n",
       "\n",
       "    .dataframe thead th {\n",
       "        text-align: right;\n",
       "    }\n",
       "</style>\n",
       "<table border=\"1\" class=\"dataframe\">\n",
       "  <thead>\n",
       "    <tr style=\"text-align: right;\">\n",
       "      <th></th>\n",
       "      <th>Intel</th>\n",
       "      <th>AMD</th>\n",
       "      <th>Nvidia</th>\n",
       "    </tr>\n",
       "  </thead>\n",
       "  <tbody>\n",
       "    <tr>\n",
       "      <th>Interest Expense</th>\n",
       "      <td>0.000000</td>\n",
       "      <td>0.479937</td>\n",
       "      <td>1.0</td>\n",
       "    </tr>\n",
       "    <tr>\n",
       "      <th>Diluted EPS</th>\n",
       "      <td>0.000000</td>\n",
       "      <td>0.340136</td>\n",
       "      <td>1.0</td>\n",
       "    </tr>\n",
       "    <tr>\n",
       "      <th>Operating Income</th>\n",
       "      <td>0.000000</td>\n",
       "      <td>0.078852</td>\n",
       "      <td>1.0</td>\n",
       "    </tr>\n",
       "    <tr>\n",
       "      <th>Operating Expense</th>\n",
       "      <td>0.000000</td>\n",
       "      <td>0.002839</td>\n",
       "      <td>1.0</td>\n",
       "    </tr>\n",
       "    <tr>\n",
       "      <th>Gross Profit</th>\n",
       "      <td>0.054268</td>\n",
       "      <td>0.0</td>\n",
       "      <td>1.0</td>\n",
       "    </tr>\n",
       "    <tr>\n",
       "      <th>Total Revenue</th>\n",
       "      <td>0.260868</td>\n",
       "      <td>0.0</td>\n",
       "      <td>1.0</td>\n",
       "    </tr>\n",
       "    <tr>\n",
       "      <th>EBITDA_margin</th>\n",
       "      <td>0.000000</td>\n",
       "      <td>0.284371</td>\n",
       "      <td>1.0</td>\n",
       "    </tr>\n",
       "    <tr>\n",
       "      <th>EBIT_margin</th>\n",
       "      <td>0.000000</td>\n",
       "      <td>0.325214</td>\n",
       "      <td>1.0</td>\n",
       "    </tr>\n",
       "  </tbody>\n",
       "</table>\n",
       "</div>"
      ],
      "text/plain": [
       "                      Intel       AMD Nvidia\n",
       "Interest Expense   0.000000  0.479937    1.0\n",
       "Diluted EPS        0.000000  0.340136    1.0\n",
       "Operating Income   0.000000  0.078852    1.0\n",
       "Operating Expense  0.000000  0.002839    1.0\n",
       "Gross Profit       0.054268       0.0    1.0\n",
       "Total Revenue      0.260868       0.0    1.0\n",
       "EBITDA_margin      0.000000  0.284371    1.0\n",
       "EBIT_margin        0.000000  0.325214    1.0"
      ]
     },
     "execution_count": 76,
     "metadata": {},
     "output_type": "execute_result"
    }
   ],
   "source": [
    "indices = df.index.to_list()\n",
    "remove = [\"Total Unusual Items\", \"EBITDA\", \"EBIT\"]\n",
    "\n",
    "for i in remove:\n",
    "    indices.remove(i)\n",
    "\n",
    "df = df.loc[indices]\n",
    "df"
   ]
  },
  {
   "cell_type": "code",
   "execution_count": null,
   "metadata": {},
   "outputs": [
    {
     "data": {
      "image/png": "[encoded data removed]",
      "text/plain": [
       "<Figure size 800x800 with 1 Axes>"
      ]
     },
     "metadata": {},
     "output_type": "display_data"
    }
   ],
   "source": [
    "import numpy as np\n",
    "import os\n",
    "\n",
    "PLOTS_DIR = \"/home/ibrahim/stock/plots\"\n",
    "\n",
    "# Prepare the radar chart parameters based on df's index\n",
    "categories = list(df.index)\n",
    "N = len(categories)\n",
    "\n",
    "angles = [n / float(N) * 2 * np.pi for n in range(N)]\n",
    "angles += angles[:1]\n",
    "\n",
    "fig = plt.figure(figsize=(8, 8))\n",
    "ax = fig.add_subplot(111, polar=True)\n",
    "\n",
    "# Define colors for each company\n",
    "colors = ['#161AFA', '#FA1616', '#00FF13']\n",
    "\n",
    "for company, color in zip(df.columns, colors):\n",
    "    # Get the company's values and close the loop by appending the first value\n",
    "    values = df[company].tolist()\n",
    "    values += values[:1]\n",
    "    \n",
    "    ax.plot(angles, values, color=color, linewidth=1, label=company)\n",
    "    ax.fill(angles, values, color=color, alpha=0.3)\n",
    "\n",
    "ax.set_theta_offset(np.pi / 2)\n",
    "ax.set_theta_direction(-1)\n",
    "plt.xticks(angles[:-1], categories, size=10)\n",
    "\n",
    "ax.set_rlabel_position(0)\n",
    "plt.yticks([0.2, 0.4, 0.6, 0.8], [\"20%\", \"40%\", \"60%\", \"80%\"], color=\"grey\", size=8)\n",
    "plt.ylim(0, 1)\n",
    "\n",
    "plt.title(\"Financial Metrics of NVIDIA against competitors\", size=14, y=1.1)\n",
    "plt.legend(loc='upper right', bbox_to_anchor=(1.2, 1.1))\n",
    "plt.savefig(os.path.join(PLOTS_DIR, \"competitors_financials.png\"), bbox_inches='tight')"
   ]
  },
  {
   "cell_type": "code",
   "execution_count": null,
   "metadata": {},
   "outputs": [
    {
     "data": {
      "application/vnd.plotly.v1+json": {
       "config": {
        "plotlyServerURL": "https://plot.ly"
       },
       "data": [
        {
         "hovertemplate": "Company=Intel<br>Value=%{r}<br>Metric=%{theta}<extra></extra>",
         "legendgroup": "Intel",
         "line": {
          "color": "#636efa",
          "dash": "solid"
         },
         "marker": {
          "symbol": "circle"
         },
         "mode": "lines+markers",
         "name": "Intel",
         "r": [
          0,
          0,
          0,
          0,
          0.054268027674344854,
          0.2608679043471617,
          0,
          0,
          0
         ],
         "showlegend": true,
         "subplot": "polar",
         "theta": [
          "Interest Expense",
          "Diluted EPS",
          "Operating Income",
          "Operating Expense",
          "Gross Profit",
          "Total Revenue",
          "EBITDA_margin",
          "EBIT_margin",
          "Interest Expense"
         ],
         "type": "scatterpolar"
        },
        {
         "hovertemplate": "Company=AMD<br>Value=%{r}<br>Metric=%{theta}<extra></extra>",
         "legendgroup": "AMD",
         "line": {
          "color": "#EF553B",
          "dash": "solid"
         },
         "marker": {
          "symbol": "circle"
         },
         "mode": "lines+markers",
         "name": "AMD",
         "r": [
          0.4799366115625667,
          0.34013605442176875,
          0.07885238100764846,
          0.0028392852156259862,
          0,
          0,
          0.28437107040041887,
          0.3252140153772991,
          0.4799366115625667
         ],
         "showlegend": true,
         "subplot": "polar",
         "theta": [
          "Interest Expense",
          "Diluted EPS",
          "Operating Income",
          "Operating Expense",
          "Gross Profit",
          "Total Revenue",
          "EBITDA_margin",
          "EBIT_margin",
          "Interest Expense"
         ],
         "type": "scatterpolar"
        },
        {
         "hovertemplate": "Company=Nvidia<br>Value=%{r}<br>Metric=%{theta}<extra></extra>",
         "legendgroup": "Nvidia",
         "line": {
          "color": "#00cc96",
          "dash": "solid"
         },
         "marker": {
          "symbol": "circle"
         },
         "mode": "lines+markers",
         "name": "Nvidia",
         "r": [
          0.9999999999999999,
          1,
          1,
          1,
          1,
          1,
          1.0000000000000002,
          0.9999999999999998,
          0.9999999999999999
         ],
         "showlegend": true,
         "subplot": "polar",
         "theta": [
          "Interest Expense",
          "Diluted EPS",
          "Operating Income",
          "Operating Expense",
          "Gross Profit",
          "Total Revenue",
          "EBITDA_margin",
          "EBIT_margin",
          "Interest Expense"
         ],
         "type": "scatterpolar"
        }
       ],
       "layout": {
        "legend": {
         "title": {
          "text": "Company"
         },
         "tracegroupgap": 0
        },
        "margin": {
         "t": 60
        },
        "polar": {
         "angularaxis": {
          "categoryarray": [
           "Interest Expense",
           "Diluted EPS",
           "Operating Income",
           "Operating Expense",
           "Gross Profit",
           "Total Revenue",
           "EBITDA_margin",
           "EBIT_margin"
          ],
          "categoryorder": "array",
          "direction": "clockwise",
          "rotation": 90
         },
         "domain": {
          "x": [
           0,
           1
          ],
          "y": [
           0,
           1
          ]
         }
        },
        "template": {
         "data": {
          "bar": [
           {
            "error_x": {
             "color": "#2a3f5f"
            },
            "error_y": {
             "color": "#2a3f5f"
            },
            "marker": {
             "line": {
              "color": "#E5ECF6",
              "width": 0.5
             },
             "pattern": {
              "fillmode": "overlay",
              "size": 10,
              "solidity": 0.2
             }
            },
            "type": "bar"
           }
          ],
          "barpolar": [
           {
            "marker": {
             "line": {
              "color": "#E5ECF6",
              "width": 0.5
             },
             "pattern": {
              "fillmode": "overlay",
              "size": 10,
              "solidity": 0.2
             }
            },
            "type": "barpolar"
           }
          ],
          "carpet": [
           {
            "aaxis": {
             "endlinecolor": "#2a3f5f",
             "gridcolor": "white",
             "linecolor": "white",
             "minorgridcolor": "white",
             "startlinecolor": "#2a3f5f"
            },
            "baxis": {
             "endlinecolor": "#2a3f5f",
             "gridcolor": "white",
             "linecolor": "white",
             "minorgridcolor": "white",
             "startlinecolor": "#2a3f5f"
            },
            "type": "carpet"
           }
          ],
          "choropleth": [
           {
            "colorbar": {
             "outlinewidth": 0,
             "ticks": ""
            },
            "type": "choropleth"
           }
          ],
          "contour": [
           {
            "colorbar": {
             "outlinewidth": 0,
             "ticks": ""
            },
            "colorscale": [
             [
              0,
              "#0d0887"
             ],
             [
              0.1111111111111111,
              "#46039f"
             ],
             [
              0.2222222222222222,
              "#7201a8"
             ],
             [
              0.3333333333333333,
              "#9c179e"
             ],
             [
              0.4444444444444444,
              "#bd3786"
             ],
             [
              0.5555555555555556,
              "#d8576b"
             ],
             [
              0.6666666666666666,
              "#ed7953"
             ],
             [
              0.7777777777777778,
              "#fb9f3a"
             ],
             [
              0.8888888888888888,
              "#fdca26"
             ],
             [
              1,
              "#f0f921"
             ]
            ],
            "type": "contour"
           }
          ],
          "contourcarpet": [
           {
            "colorbar": {
             "outlinewidth": 0,
             "ticks": ""
            },
            "type": "contourcarpet"
           }
          ],
          "heatmap": [
           {
            "colorbar": {
             "outlinewidth": 0,
             "ticks": ""
            },
            "colorscale": [
             [
              0,
              "#0d0887"
             ],
             [
              0.1111111111111111,
              "#46039f"
             ],
             [
              0.2222222222222222,
              "#7201a8"
             ],
             [
              0.3333333333333333,
              "#9c179e"
             ],
             [
              0.4444444444444444,
              "#bd3786"
             ],
             [
              0.5555555555555556,
              "#d8576b"
             ],
             [
              0.6666666666666666,
              "#ed7953"
             ],
             [
              0.7777777777777778,
              "#fb9f3a"
             ],
             [
              0.8888888888888888,
              "#fdca26"
             ],
             [
              1,
              "#f0f921"
             ]
            ],
            "type": "heatmap"
           }
          ],
          "histogram": [
           {
            "marker": {
             "pattern": {
              "fillmode": "overlay",
              "size": 10,
              "solidity": 0.2
             }
            },
            "type": "histogram"
           }
          ],
          "histogram2d": [
           {
            "colorbar": {
             "outlinewidth": 0,
             "ticks": ""
            },
            "colorscale": [
             [
              0,
              "#0d0887"
             ],
             [
              0.1111111111111111,
              "#46039f"
             ],
             [
              0.2222222222222222,
              "#7201a8"
             ],
             [
              0.3333333333333333,
              "#9c179e"
             ],
             [
              0.4444444444444444,
              "#bd3786"
             ],
             [
              0.5555555555555556,
              "#d8576b"
             ],
             [
              0.6666666666666666,
              "#ed7953"
             ],
             [
              0.7777777777777778,
              "#fb9f3a"
             ],
             [
              0.8888888888888888,
              "#fdca26"
             ],
             [
              1,
              "#f0f921"
             ]
            ],
            "type": "histogram2d"
           }
          ],
          "histogram2dcontour": [
           {
            "colorbar": {
             "outlinewidth": 0,
             "ticks": ""
            },
            "colorscale": [
             [
              0,
              "#0d0887"
             ],
             [
              0.1111111111111111,
              "#46039f"
             ],
             [
              0.2222222222222222,
              "#7201a8"
             ],
             [
              0.3333333333333333,
              "#9c179e"
             ],
             [
              0.4444444444444444,
              "#bd3786"
             ],
             [
              0.5555555555555556,
              "#d8576b"
             ],
             [
              0.6666666666666666,
              "#ed7953"
             ],
             [
              0.7777777777777778,
              "#fb9f3a"
             ],
             [
              0.8888888888888888,
              "#fdca26"
             ],
             [
              1,
              "#f0f921"
             ]
            ],
            "type": "histogram2dcontour"
           }
          ],
          "mesh3d": [
           {
            "colorbar": {
             "outlinewidth": 0,
             "ticks": ""
            },
            "type": "mesh3d"
           }
          ],
          "parcoords": [
           {
            "line": {
             "colorbar": {
              "outlinewidth": 0,
              "ticks": ""
             }
            },
            "type": "parcoords"
           }
          ],
          "pie": [
           {
            "automargin": true,
            "type": "pie"
           }
          ],
          "scatter": [
           {
            "fillpattern": {
             "fillmode": "overlay",
             "size": 10,
             "solidity": 0.2
            },
            "type": "scatter"
           }
          ],
          "scatter3d": [
           {
            "line": {
             "colorbar": {
              "outlinewidth": 0,
              "ticks": ""
             }
            },
            "marker": {
             "colorbar": {
              "outlinewidth": 0,
              "ticks": ""
             }
            },
            "type": "scatter3d"
           }
          ],
          "scattercarpet": [
           {
            "marker": {
             "colorbar": {
              "outlinewidth": 0,
              "ticks": ""
             }
            },
            "type": "scattercarpet"
           }
          ],
          "scattergeo": [
           {
            "marker": {
             "colorbar": {
              "outlinewidth": 0,
              "ticks": ""
             }
            },
            "type": "scattergeo"
           }
          ],
          "scattergl": [
           {
            "marker": {
             "colorbar": {
              "outlinewidth": 0,
              "ticks": ""
             }
            },
            "type": "scattergl"
           }
          ],
          "scattermap": [
           {
            "marker": {
             "colorbar": {
              "outlinewidth": 0,
              "ticks": ""
             }
            },
            "type": "scattermap"
           }
          ],
          "scattermapbox": [
           {
            "marker": {
             "colorbar": {
              "outlinewidth": 0,
              "ticks": ""
             }
            },
            "type": "scattermapbox"
           }
          ],
          "scatterpolar": [
           {
            "marker": {
             "colorbar": {
              "outlinewidth": 0,
              "ticks": ""
             }
            },
            "type": "scatterpolar"
           }
          ],
          "scatterpolargl": [
           {
            "marker": {
             "colorbar": {
              "outlinewidth": 0,
              "ticks": ""
             }
            },
            "type": "scatterpolargl"
           }
          ],
          "scatterternary": [
           {
            "marker": {
             "colorbar": {
              "outlinewidth": 0,
              "ticks": ""
             }
            },
            "type": "scatterternary"
           }
          ],
          "surface": [
           {
            "colorbar": {
             "outlinewidth": 0,
             "ticks": ""
            },
            "colorscale": [
             [
              0,
              "#0d0887"
             ],
             [
              0.1111111111111111,
              "#46039f"
             ],
             [
              0.2222222222222222,
              "#7201a8"
             ],
             [
              0.3333333333333333,
              "#9c179e"
             ],
             [
              0.4444444444444444,
              "#bd3786"
             ],
             [
              0.5555555555555556,
              "#d8576b"
             ],
             [
              0.6666666666666666,
              "#ed7953"
             ],
             [
              0.7777777777777778,
              "#fb9f3a"
             ],
             [
              0.8888888888888888,
              "#fdca26"
             ],
             [
              1,
              "#f0f921"
             ]
            ],
            "type": "surface"
           }
          ],
          "table": [
           {
            "cells": {
             "fill": {
              "color": "#EBF0F8"
             },
             "line": {
              "color": "white"
             }
            },
            "header": {
             "fill": {
              "color": "#C8D4E3"
             },
             "line": {
              "color": "white"
             }
            },
            "type": "table"
           }
          ]
         },
         "layout": {
          "annotationdefaults": {
           "arrowcolor": "#2a3f5f",
           "arrowhead": 0,
           "arrowwidth": 1
          },
          "autotypenumbers": "strict",
          "coloraxis": {
           "colorbar": {
            "outlinewidth": 0,
            "ticks": ""
           }
          },
          "colorscale": {
           "diverging": [
            [
             0,
             "#8e0152"
            ],
            [
             0.1,
             "#c51b7d"
            ],
            [
             0.2,
             "#de77ae"
            ],
            [
             0.3,
             "#f1b6da"
            ],
            [
             0.4,
             "#fde0ef"
            ],
            [
             0.5,
             "#f7f7f7"
            ],
            [
             0.6,
             "#e6f5d0"
            ],
            [
             0.7,
             "#b8e186"
            ],
            [
             0.8,
             "#7fbc41"
            ],
            [
             0.9,
             "#4d9221"
            ],
            [
             1,
             "#276419"
            ]
           ],
           "sequential": [
            [
             0,
             "#0d0887"
            ],
            [
             0.1111111111111111,
             "#46039f"
            ],
            [
             0.2222222222222222,
             "#7201a8"
            ],
            [
             0.3333333333333333,
             "#9c179e"
            ],
            [
             0.4444444444444444,
             "#bd3786"
            ],
            [
             0.5555555555555556,
             "#d8576b"
            ],
            [
             0.6666666666666666,
             "#ed7953"
            ],
            [
             0.7777777777777778,
             "#fb9f3a"
            ],
            [
             0.8888888888888888,
             "#fdca26"
            ],
            [
             1,
             "#f0f921"
            ]
           ],
           "sequentialminus": [
            [
             0,
             "#0d0887"
            ],
            [
             0.1111111111111111,
             "#46039f"
            ],
            [
             0.2222222222222222,
             "#7201a8"
            ],
            [
             0.3333333333333333,
             "#9c179e"
            ],
            [
             0.4444444444444444,
             "#bd3786"
            ],
            [
             0.5555555555555556,
             "#d8576b"
            ],
            [
             0.6666666666666666,
             "#ed7953"
            ],
            [
             0.7777777777777778,
             "#fb9f3a"
            ],
            [
             0.8888888888888888,
             "#fdca26"
            ],
            [
             1,
             "#f0f921"
            ]
           ]
          },
          "colorway": [
           "#636efa",
           "#EF553B",
           "#00cc96",
           "#ab63fa",
           "#FFA15A",
           "#19d3f3",
           "#FF6692",
           "#B6E880",
           "#FF97FF",
           "#FECB52"
          ],
          "font": {
           "color": "#2a3f5f"
          },
          "geo": {
           "bgcolor": "white",
           "lakecolor": "white",
           "landcolor": "#E5ECF6",
           "showlakes": true,
           "showland": true,
           "subunitcolor": "white"
          },
          "hoverlabel": {
           "align": "left"
          },
          "hovermode": "closest",
          "mapbox": {
           "style": "light"
          },
          "paper_bgcolor": "white",
          "plot_bgcolor": "#E5ECF6",
          "polar": {
           "angularaxis": {
            "gridcolor": "white",
            "linecolor": "white",
            "ticks": ""
           },
           "bgcolor": "#E5ECF6",
           "radialaxis": {
            "gridcolor": "white",
            "linecolor": "white",
            "ticks": ""
           }
          },
          "scene": {
           "xaxis": {
            "backgroundcolor": "#E5ECF6",
            "gridcolor": "white",
            "gridwidth": 2,
            "linecolor": "white",
            "showbackground": true,
            "ticks": "",
            "zerolinecolor": "white"
           },
           "yaxis": {
            "backgroundcolor": "#E5ECF6",
            "gridcolor": "white",
            "gridwidth": 2,
            "linecolor": "white",
            "showbackground": true,
            "ticks": "",
            "zerolinecolor": "white"
           },
           "zaxis": {
            "backgroundcolor": "#E5ECF6",
            "gridcolor": "white",
            "gridwidth": 2,
            "linecolor": "white",
            "showbackground": true,
            "ticks": "",
            "zerolinecolor": "white"
           }
          },
          "shapedefaults": {
           "line": {
            "color": "#2a3f5f"
           }
          },
          "ternary": {
           "aaxis": {
            "gridcolor": "white",
            "linecolor": "white",
            "ticks": ""
           },
           "baxis": {
            "gridcolor": "white",
            "linecolor": "white",
            "ticks": ""
           },
           "bgcolor": "#E5ECF6",
           "caxis": {
            "gridcolor": "white",
            "linecolor": "white",
            "ticks": ""
           }
          },
          "title": {
           "x": 0.05
          },
          "xaxis": {
           "automargin": true,
           "gridcolor": "white",
           "linecolor": "white",
           "ticks": "",
           "title": {
            "standoff": 15
           },
           "zerolinecolor": "white",
           "zerolinewidth": 2
          },
          "yaxis": {
           "automargin": true,
           "gridcolor": "white",
           "linecolor": "white",
           "ticks": "",
           "title": {
            "standoff": 15
           },
           "zerolinecolor": "white",
           "zerolinewidth": 2
          }
         }
        },
        "title": {
         "text": "Radar Chart: Financial Metrics"
        }
       }
      }
     },
     "metadata": {},
     "output_type": "display_data"
    }
   ],
   "source": []
  },
  {
   "cell_type": "code",
   "execution_count": null,
   "metadata": {},
   "outputs": [],
   "source": [
    "fig = plt.figure(figsize=(8, 8))\n",
    "ax = fig.add_subplot(111, polar=True)\n",
    "\n",
    "for data in all_company_data:\n",
    "    ax.plot(angles, data['values'], color=data['color'], linewidth=1, label=data['label'])\n",
    "    ax.fill(angles, data['values'], color=data['color'], alpha=0.25)\n",
    "\n",
    "ax.set_theta_offset(np.pi / 2)\n",
    "ax.set_theta_direction(-1)\n",
    "plt.xticks(angles[:-1], categories, size=12)\n",
    "ax.set_rlabel_position(0)\n",
    "plt.yticks([0.2, 0.4, 0.6, 0.8], [\"20%\", \"40%\", \"60%\", \"80%\"], color=\"grey\", size=10)\n",
    "plt.ylim(0, 1)\n",
    "\n",
    "plt.title(\"Technical Health Radar Chart\\n(Date: {})\".format(amd_df_1y['date'].iloc[-1].strftime('%Y-%m-%d')),\n",
    "          size=14, y=1.1)\n",
    "plt.legend(loc='upper right', bbox_to_anchor=(1.2, 1.2))\n",
    "\n",
    "plt.show()"
   ]
  }
 ],
 "metadata": {
  "kernelspec": {
   "display_name": "rapids",
   "language": "python",
   "name": "python3"
  },
  "language_info": {
   "codemirror_mode": {
    "name": "ipython",
    "version": 3
   },
   "file_extension": ".py",
   "mimetype": "text/x-python",
   "name": "python",
   "nbconvert_exporter": "python",
   "pygments_lexer": "ipython3",
   "version": "3.12.9"
  }
 },
 "nbformat": 4,
 "nbformat_minor": 2
}
