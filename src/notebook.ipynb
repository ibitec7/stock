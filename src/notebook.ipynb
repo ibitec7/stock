{
 "cells": [
  {
   "cell_type": "code",
   "execution_count": 11,
   "metadata": {},
   "outputs": [],
   "source": [
    "import httpx\n",
    "from bs4 import BeautifulSoup\n",
    "import asyncio"
   ]
  },
  {
   "cell_type": "code",
   "execution_count": 12,
   "metadata": {},
   "outputs": [],
   "source": [
    "async def get_response(client: httpx.AsyncClient, url: str) -> httpx.Response:\n",
    "    response = await client.get(url)\n",
    "    return response"
   ]
  },
  {
   "cell_type": "code",
   "execution_count": 13,
   "metadata": {},
   "outputs": [],
   "source": [
    "urls = [\n",
    "    \"https://www.example.com\",\n",
    "    \"https://www.oreilly.com\",\n",
    "    \"https://www.python.org\",\n",
    "    \"https://www.github.com\",\n",
    "    \"https://www.stackoverflow.com\",\n",
    "    \"https://www.reddit.com\",\n",
    "    \"https://www.medium.com\",\n",
    "    \"https://www.wikipedia.org\",\n",
    "    \"https://www.linkedin.com\",\n",
    "    \"https://www.twitter.com\"\n",
    "]\n",
    "\n",
    "async with httpx.AsyncClient() as client:\n",
    "    tasks = [asyncio.create_task(get_response(client, url)) for url in urls]\n",
    "    responses = await asyncio.gather(*tasks)"
   ]
  },
  {
   "cell_type": "code",
   "execution_count": 16,
   "metadata": {},
   "outputs": [],
   "source": [
    "with httpx.Client() as client:\n",
    "    responses = [client.get(url) for url in urls]"
   ]
  },
  {
   "cell_type": "code",
   "execution_count": 21,
   "metadata": {},
   "outputs": [
    {
     "data": {
      "text/plain": [
       "URL('https://www.oreilly.com')"
      ]
     },
     "execution_count": 21,
     "metadata": {},
     "output_type": "execute_result"
    }
   ],
   "source": [
    "responses[1].url"
   ]
  },
  {
   "cell_type": "code",
   "execution_count": null,
   "metadata": {},
   "outputs": [],
   "source": []
  }
 ],
 "metadata": {
  "kernelspec": {
   "display_name": "base",
   "language": "python",
   "name": "python3"
  },
  "language_info": {
   "codemirror_mode": {
    "name": "ipython",
    "version": 3
   },
   "file_extension": ".py",
   "mimetype": "text/x-python",
   "name": "python",
   "nbconvert_exporter": "python",
   "pygments_lexer": "ipython3",
   "version": "3.12.2"
  }
 },
 "nbformat": 4,
 "nbformat_minor": 2
}
